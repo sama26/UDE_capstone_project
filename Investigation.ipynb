{
 "cells": [
  {
   "cell_type": "code",
   "execution_count": 60,
   "id": "9fb44cba-219c-4331-b454-12e6ec411a6c",
   "metadata": {},
   "outputs": [],
   "source": [
    "# Import Pyspark\n",
    "import pyspark\n",
    "from pyspark import SparkConf\n",
    "from pyspark.sql import SparkSession\n",
    "from pyspark.sql.functions import isnan, when, count, col, countDistinct"
   ]
  },
  {
   "cell_type": "code",
   "execution_count": 6,
   "id": "7b0dc2e1-0aaf-4c3d-9f8b-2cbdd13ec627",
   "metadata": {},
   "outputs": [],
   "source": [
    "# Establish Spark Session\n",
    "spark = SparkSession \\\n",
    "    .builder \\\n",
    "    .appName(\"Dataset Investigation\") \\\n",
    "    .getOrCreate()"
   ]
  },
  {
   "cell_type": "code",
   "execution_count": 38,
   "id": "aec79824-dc58-4b75-b0df-c242bb279ed5",
   "metadata": {},
   "outputs": [],
   "source": [
    "# Load First Dataset\n",
    "df_1_path = \"data/df_test\"\n",
    "df_1 = spark.read \\\n",
    "    .option(\"header\", \"true\") \\\n",
    "    .option(\"inferSchema\", \"true\") \\\n",
    "    .csv(df_1_path)\n",
    "\n",
    "# Load Second Dataset\n",
    "df_2_path = \"data//df_result\"\n",
    "df_2 = spark.read \\\n",
    "    .option(\"header\", \"true\") \\\n",
    "    .option(\"inferSchema\", \"true\") \\\n",
    "    .csv(df_2_path)"
   ]
  },
  {
   "cell_type": "code",
   "execution_count": 13,
   "id": "315d25d0-8f7c-4b3d-989b-665cbfc05fff",
   "metadata": {},
   "outputs": [],
   "source": [
    "# Check Schema for df_1"
   ]
  },
  {
   "cell_type": "code",
   "execution_count": 39,
   "id": "283e6320-fcf5-4cef-adcb-ab1acf5e5052",
   "metadata": {},
   "outputs": [
    {
     "name": "stdout",
     "output_type": "stream",
     "text": [
      "root\n",
      " |-- test_id: integer (nullable = true)\n",
      " |-- rfr_id: integer (nullable = true)\n",
      " |-- rfr_type_code: string (nullable = true)\n",
      " |-- location_id: integer (nullable = true)\n",
      " |-- dangerous_mark: string (nullable = true)\n",
      "\n"
     ]
    }
   ],
   "source": [
    "df_1.printSchema()"
   ]
  },
  {
   "cell_type": "code",
   "execution_count": 15,
   "id": "9ea8a552-9550-4f9f-8921-045bf86f0e68",
   "metadata": {},
   "outputs": [],
   "source": [
    "# Check Schema for df_2"
   ]
  },
  {
   "cell_type": "code",
   "execution_count": 40,
   "id": "d8ffa8ef-341b-4298-9e29-5f130ce41bd1",
   "metadata": {},
   "outputs": [
    {
     "name": "stdout",
     "output_type": "stream",
     "text": [
      "root\n",
      " |-- test_id: integer (nullable = true)\n",
      " |-- vehicle_id: integer (nullable = true)\n",
      " |-- test_date: string (nullable = true)\n",
      " |-- test_class_id: integer (nullable = true)\n",
      " |-- test_type: string (nullable = true)\n",
      " |-- test_result: string (nullable = true)\n",
      " |-- test_mileage: integer (nullable = true)\n",
      " |-- postcode_area: string (nullable = true)\n",
      " |-- make: string (nullable = true)\n",
      " |-- model: string (nullable = true)\n",
      " |-- colour: string (nullable = true)\n",
      " |-- fuel_type: string (nullable = true)\n",
      " |-- cylinder_capacity: integer (nullable = true)\n",
      " |-- first_use_date: string (nullable = true)\n",
      "\n"
     ]
    }
   ],
   "source": [
    "df_2.printSchema()"
   ]
  },
  {
   "cell_type": "code",
   "execution_count": 22,
   "id": "c4530f26-8e65-471d-b3ea-aef633ec685c",
   "metadata": {},
   "outputs": [],
   "source": [
    "# Review top 10 rows of df_1"
   ]
  },
  {
   "cell_type": "code",
   "execution_count": 41,
   "id": "8c15a235-0b0f-4682-bbe0-ee340c822191",
   "metadata": {},
   "outputs": [
    {
     "name": "stdout",
     "output_type": "stream",
     "text": [
      "+---------+------+-------------+-----------+--------------+\n",
      "|  test_id|rfr_id|rfr_type_code|location_id|dangerous_mark|\n",
      "+---------+------+-------------+-----------+--------------+\n",
      "|666422869| 31380|            A|         25|          null|\n",
      "|666422869| 31194|            A|         25|          null|\n",
      "|623774383| 31194|            A|          9|          null|\n",
      "|325234981| 40368|            F|          9|          null|\n",
      "|325234981| 40376|            F|          9|          null|\n",
      "|325234981| 40580|            F|          9|             D|\n",
      "|325234981| 40206|            A|          9|          null|\n",
      "|367883467| 31194|            A|          7|          null|\n",
      "|367883467| 31322|            A|          7|          null|\n",
      "|154641037| 30856|            M|          1|          null|\n",
      "+---------+------+-------------+-----------+--------------+\n",
      "only showing top 10 rows\n",
      "\n"
     ]
    }
   ],
   "source": [
    "df_1.show(n=10)"
   ]
  },
  {
   "cell_type": "code",
   "execution_count": 24,
   "id": "e74b5025-dc39-4530-b5ef-0c6b92aaa28e",
   "metadata": {},
   "outputs": [],
   "source": [
    "# Review top 10 rows of df_2"
   ]
  },
  {
   "cell_type": "code",
   "execution_count": 42,
   "id": "f66d811f-19bc-4fbc-8942-6a02e0c64b9f",
   "metadata": {},
   "outputs": [
    {
     "name": "stdout",
     "output_type": "stream",
     "text": [
      "+---------+----------+----------+-------------+---------+-----------+------------+-------------+--------+--------+------+---------+-----------------+--------------+\n",
      "|  test_id|vehicle_id| test_date|test_class_id|test_type|test_result|test_mileage|postcode_area|    make|   model|colour|fuel_type|cylinder_capacity|first_use_date|\n",
      "+---------+----------+----------+-------------+---------+-----------+------------+-------------+--------+--------+------+---------+-----------------+--------------+\n",
      "|666422869|1253657552|2020-01-01|            4|       NT|          P|       63975|           TR| CITROEN|DISPATCH| WHITE|       DI|             1560|    2011-03-14|\n",
      "|623774383|  51021182|2020-01-01|            4|       NT|          P|      107361|           NN|    SEAT|   IBIZA|YELLOW|       PE|             1390|    2008-12-18|\n",
      "|581125897| 612989654|2020-01-01|            4|       NT|          P|       73160|           NN|MERCEDES|   A 150|SILVER|       PE|             1498|    2007-09-28|\n",
      "|538477411| 458058688|2020-01-01|            4|       NT|          P|        null|           TR| CITROEN|DISPATCH| WHITE|       DI|             1868|    2004-11-19|\n",
      "|325234981|1422080365|2020-01-01|            1|       NT|          F|       27120|           SS|     KTM|     125|ORANGE|       PE|              125|    2013-12-07|\n",
      "|367883467|1254023710|2020-01-01|            4|       NT|          P|       81260|           RM|    FORD|   FOCUS|  BLUE|       PE|             1596|    2005-06-13|\n",
      "|453180439|1266564042|2020-01-01|            4|       NT|          P|       93426|           CA|   SKODA|   FABIA|  GREY|       DI|             1598|    2012-06-21|\n",
      "|282586495| 341436608|2020-01-01|            4|       NT|          P|      127237|            B|VAUXHALL|INSIGNIA| WHITE|       DI|             1956|    2010-09-10|\n",
      "|154641037| 504524381|2020-01-01|            4|       NT|          P|      109759|            B|   SKODA|   RAPID|   RED|       DI|             1598|    2014-12-19|\n",
      "| 69344065| 558958969|2020-01-01|            4|       NT|          P|       70124|           LU|  JAGUAR|      XF| WHITE|       DI|             2179|    2014-08-20|\n",
      "+---------+----------+----------+-------------+---------+-----------+------------+-------------+--------+--------+------+---------+-----------------+--------------+\n",
      "only showing top 10 rows\n",
      "\n"
     ]
    }
   ],
   "source": [
    "df_2.show(n=10)"
   ]
  },
  {
   "cell_type": "code",
   "execution_count": null,
   "id": "20b4c47c-0a67-4265-a139-515c7f9e002f",
   "metadata": {},
   "outputs": [],
   "source": [
    "# Review summary statistics for df_1"
   ]
  },
  {
   "cell_type": "code",
   "execution_count": 43,
   "id": "93210a83-29b6-48d6-a06b-9dc616a46028",
   "metadata": {},
   "outputs": [
    {
     "name": "stdout",
     "output_type": "stream",
     "text": [
      "+-------+-------------------+-----------------+-------------+------------------+--------------+\n",
      "|summary|            test_id|           rfr_id|rfr_type_code|       location_id|dangerous_mark|\n",
      "+-------+-------------------+-----------------+-------------+------------------+--------------+\n",
      "|  count|           75907074|         75907074|     75907074|          75907074|       3946877|\n",
      "|   mean|9.999528644262294E8|30332.30882541988|         null|20.441835737206784|          null|\n",
      "| stddev|5.773192977866449E8|4292.207100348532|         null| 28.95789023526161|          null|\n",
      "|    min|                 13|            10001|            A|                 1|             D|\n",
      "|    max|         1999999879|            40668|            P|               257|             D|\n",
      "+-------+-------------------+-----------------+-------------+------------------+--------------+\n",
      "\n"
     ]
    }
   ],
   "source": [
    "df_1.describe().show()"
   ]
  },
  {
   "cell_type": "code",
   "execution_count": null,
   "id": "195e2a3e-d164-4124-9f16-422088519675",
   "metadata": {},
   "outputs": [],
   "source": [
    "# Review summary statistics for df_2"
   ]
  },
  {
   "cell_type": "code",
   "execution_count": 44,
   "id": "2f390246-bd4c-414e-8520-85d058a2bc0b",
   "metadata": {},
   "outputs": [
    {
     "name": "stdout",
     "output_type": "stream",
     "text": [
      "+-------+-------------------+-------------------+----------+------------------+---------+-----------+-----------------+-------------+---------+--------+--------+---------+-----------------+--------------+\n",
      "|summary|            test_id|         vehicle_id| test_date|     test_class_id|test_type|test_result|     test_mileage|postcode_area|     make|   model|  colour|fuel_type|cylinder_capacity|first_use_date|\n",
      "+-------+-------------------+-------------------+----------+------------------+---------+-----------+-----------------+-------------+---------+--------+--------+---------+-----------------+--------------+\n",
      "|  count|           38594013|           38594013|  38594013|          38594013| 38594013|   38594013|         37586721|     38594013| 38594013|38594013|38594013| 38594013|         38516999|      38593382|\n",
      "|   mean| 9.99981898874274E8|7.499174761990405E8|      null|4.0257636333386735|     null|       null|74862.38603199784|         null| Infinity|Infinity|    null|     null|1714.384850206009|          null|\n",
      "| stddev|5.773430958455708E8|4.330233922981452E8|      null|0.6009395728256535|     null|       null|48307.29568524957|         null|      NaN|     NaN|    null|     null| 597.287987387984|          null|\n",
      "|    min|                 13|                 22|2020-01-01|                 1|       ES|        ABA|                1|           AB|        .| !MPREZA|   BEIGE|       CN|                0|    0001-01-01|\n",
      "|    max|         1999999901|         1499999986|2020-12-31|                 7|       RT|        PRS|           999999|           ZE|wrightbus|     ŻUK|  YELLOW|       ST|            99999|    2913-02-06|\n",
      "+-------+-------------------+-------------------+----------+------------------+---------+-----------+-----------------+-------------+---------+--------+--------+---------+-----------------+--------------+\n",
      "\n"
     ]
    }
   ],
   "source": [
    "df_2.describe().show()"
   ]
  },
  {
   "cell_type": "code",
   "execution_count": 51,
   "id": "ec895f4f-9388-40d0-9e28-6f63f24a6d45",
   "metadata": {},
   "outputs": [],
   "source": [
    "# Investigate Null/NaN values in df_1"
   ]
  },
  {
   "cell_type": "code",
   "execution_count": 56,
   "id": "3dc4b41e-2345-4df8-877e-fd68662b93f8",
   "metadata": {},
   "outputs": [
    {
     "name": "stdout",
     "output_type": "stream",
     "text": [
      "+-------+------+-------------+-----------+--------------+\n",
      "|test_id|rfr_id|rfr_type_code|location_id|dangerous_mark|\n",
      "+-------+------+-------------+-----------+--------------+\n",
      "|      0|     0|            0|          0|      71960197|\n",
      "+-------+------+-------------+-----------+--------------+\n",
      "\n"
     ]
    }
   ],
   "source": [
    "df_1.select([count(when(isnan(c) | col(c).isNull(), c)).alias(c) for c in df_1.columns]).show()"
   ]
  },
  {
   "cell_type": "code",
   "execution_count": 54,
   "id": "6e044b7d-3037-4ff3-836c-c3a9b2b1d4b6",
   "metadata": {},
   "outputs": [],
   "source": [
    "# Investigate Null/NaN values in df_2"
   ]
  },
  {
   "cell_type": "code",
   "execution_count": 52,
   "id": "b4ec0d73-146f-4112-9f79-ee67f390e636",
   "metadata": {},
   "outputs": [
    {
     "name": "stdout",
     "output_type": "stream",
     "text": [
      "+-------+----------+---------+-------------+---------+-----------+------------+-------------+----+-----+------+---------+-----------------+--------------+\n",
      "|test_id|vehicle_id|test_date|test_class_id|test_type|test_result|test_mileage|postcode_area|make|model|colour|fuel_type|cylinder_capacity|first_use_date|\n",
      "+-------+----------+---------+-------------+---------+-----------+------------+-------------+----+-----+------+---------+-----------------+--------------+\n",
      "|      0|         0|        0|            0|        0|          0|     1007292|            0|   0|    0|     0|        0|            77014|           631|\n",
      "+-------+----------+---------+-------------+---------+-----------+------------+-------------+----+-----+------+---------+-----------------+--------------+\n",
      "\n"
     ]
    }
   ],
   "source": [
    "df_2.select([count(when(isnan(c) | col(c).isNull(), c)).alias(c) for c in df_2.columns]).show()"
   ]
  },
  {
   "cell_type": "code",
   "execution_count": 64,
   "id": "15f099ae-d00e-4d69-9e4d-fe19ea7d7030",
   "metadata": {},
   "outputs": [],
   "source": [
    "# Check that test_id is a primary key in df_2"
   ]
  },
  {
   "cell_type": "code",
   "execution_count": 63,
   "id": "337401d2-0517-42a0-9f12-8cbf79753f68",
   "metadata": {},
   "outputs": [
    {
     "name": "stdout",
     "output_type": "stream",
     "text": [
      "+-----------------------+\n",
      "|count(DISTINCT test_id)|\n",
      "+-----------------------+\n",
      "|               38594013|\n",
      "+-----------------------+\n",
      "\n"
     ]
    }
   ],
   "source": [
    "df_2.select(countDistinct(\"test_id\")).show()"
   ]
  },
  {
   "cell_type": "code",
   "execution_count": null,
   "id": "0de55f3c-6947-4760-b6df-94ad069ba2de",
   "metadata": {},
   "outputs": [],
   "source": []
  }
 ],
 "metadata": {
  "kernelspec": {
   "display_name": "Python 3",
   "language": "python",
   "name": "python3"
  },
  "language_info": {
   "codemirror_mode": {
    "name": "ipython",
    "version": 3
   },
   "file_extension": ".py",
   "mimetype": "text/x-python",
   "name": "python",
   "nbconvert_exporter": "python",
   "pygments_lexer": "ipython3",
   "version": "3.8.10"
  }
 },
 "nbformat": 4,
 "nbformat_minor": 5
}
