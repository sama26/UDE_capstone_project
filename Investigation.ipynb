{
 "cells": [
  {
   "cell_type": "code",
   "execution_count": 1,
   "id": "9fb44cba-219c-4331-b454-12e6ec411a6c",
   "metadata": {},
   "outputs": [],
   "source": [
    "# Import Pyspark\n",
    "import pyspark\n",
    "from pyspark import SparkConf\n",
    "from pyspark.sql import SparkSession\n",
    "from pyspark.sql.functions import isnan, when, count, col, countDistinct"
   ]
  },
  {
   "cell_type": "code",
   "execution_count": 2,
   "id": "7b0dc2e1-0aaf-4c3d-9f8b-2cbdd13ec627",
   "metadata": {},
   "outputs": [],
   "source": [
    "# Establish Spark Session\n",
    "spark = SparkSession \\\n",
    "    .builder \\\n",
    "    .appName(\"Dataset Investigation\") \\\n",
    "    .getOrCreate()"
   ]
  },
  {
   "cell_type": "code",
   "execution_count": null,
   "id": "aec79824-dc58-4b75-b0df-c242bb279ed5",
   "metadata": {},
   "outputs": [],
   "source": [
    "# Load First Dataset\n",
    "df_1_path = \"data/df_item_json\"\n",
    "df_1 = spark.read.json(df_1_path)\n",
    "\n",
    "# Load Second Dataset\n",
    "df_2_path = \"data//df_result\"\n",
    "df_2 = spark.read \\\n",
    "    .option(\"header\", \"true\") \\\n",
    "    .option(\"inferSchema\", \"true\") \\\n",
    "    .csv(df_2_path)"
   ]
  },
  {
   "cell_type": "code",
   "execution_count": null,
   "id": "315d25d0-8f7c-4b3d-989b-665cbfc05fff",
   "metadata": {},
   "outputs": [],
   "source": [
    "# Check Schema for df_1"
   ]
  },
  {
   "cell_type": "code",
   "execution_count": null,
   "id": "283e6320-fcf5-4cef-adcb-ab1acf5e5052",
   "metadata": {},
   "outputs": [],
   "source": [
    "df_1.printSchema()"
   ]
  },
  {
   "cell_type": "code",
   "execution_count": null,
   "id": "9ea8a552-9550-4f9f-8921-045bf86f0e68",
   "metadata": {},
   "outputs": [],
   "source": [
    "# Check Schema for df_2"
   ]
  },
  {
   "cell_type": "code",
   "execution_count": null,
   "id": "d8ffa8ef-341b-4298-9e29-5f130ce41bd1",
   "metadata": {},
   "outputs": [],
   "source": [
    "df_2.printSchema()"
   ]
  },
  {
   "cell_type": "code",
   "execution_count": null,
   "id": "c4530f26-8e65-471d-b3ea-aef633ec685c",
   "metadata": {},
   "outputs": [],
   "source": [
    "# Review top 10 rows of df_1"
   ]
  },
  {
   "cell_type": "code",
   "execution_count": null,
   "id": "8c15a235-0b0f-4682-bbe0-ee340c822191",
   "metadata": {},
   "outputs": [],
   "source": [
    "df_1.show(n=10)"
   ]
  },
  {
   "cell_type": "code",
   "execution_count": null,
   "id": "e74b5025-dc39-4530-b5ef-0c6b92aaa28e",
   "metadata": {},
   "outputs": [],
   "source": [
    "# Review top 10 rows of df_2"
   ]
  },
  {
   "cell_type": "code",
   "execution_count": null,
   "id": "f66d811f-19bc-4fbc-8942-6a02e0c64b9f",
   "metadata": {},
   "outputs": [],
   "source": [
    "df_2.show(n=10)"
   ]
  },
  {
   "cell_type": "code",
   "execution_count": null,
   "id": "20b4c47c-0a67-4265-a139-515c7f9e002f",
   "metadata": {},
   "outputs": [],
   "source": [
    "# Review summary statistics for df_1"
   ]
  },
  {
   "cell_type": "code",
   "execution_count": null,
   "id": "93210a83-29b6-48d6-a06b-9dc616a46028",
   "metadata": {},
   "outputs": [],
   "source": [
    "df_1.describe().show()"
   ]
  },
  {
   "cell_type": "code",
   "execution_count": null,
   "id": "195e2a3e-d164-4124-9f16-422088519675",
   "metadata": {},
   "outputs": [],
   "source": [
    "# Review summary statistics for df_2"
   ]
  },
  {
   "cell_type": "code",
   "execution_count": null,
   "id": "2f390246-bd4c-414e-8520-85d058a2bc0b",
   "metadata": {},
   "outputs": [],
   "source": [
    "df_2.describe().show()"
   ]
  },
  {
   "cell_type": "code",
   "execution_count": null,
   "id": "ec895f4f-9388-40d0-9e28-6f63f24a6d45",
   "metadata": {},
   "outputs": [],
   "source": [
    "# Investigate Null/NaN values in df_1"
   ]
  },
  {
   "cell_type": "code",
   "execution_count": null,
   "id": "3dc4b41e-2345-4df8-877e-fd68662b93f8",
   "metadata": {},
   "outputs": [],
   "source": [
    "df_1.select([count(when(isnan(c) | col(c).isNull(), c)).alias(c) for c in df_1.columns]).show()"
   ]
  },
  {
   "cell_type": "code",
   "execution_count": null,
   "id": "6e044b7d-3037-4ff3-836c-c3a9b2b1d4b6",
   "metadata": {},
   "outputs": [],
   "source": [
    "# Investigate Null/NaN values in df_2"
   ]
  },
  {
   "cell_type": "code",
   "execution_count": null,
   "id": "b4ec0d73-146f-4112-9f79-ee67f390e636",
   "metadata": {},
   "outputs": [],
   "source": [
    "df_2.select([count(when(isnan(c) | col(c).isNull(), c)).alias(c) for c in df_2.columns]).show()"
   ]
  },
  {
   "cell_type": "code",
   "execution_count": null,
   "id": "15f099ae-d00e-4d69-9e4d-fe19ea7d7030",
   "metadata": {},
   "outputs": [],
   "source": [
    "# Check that test_id is a primary key in df_2"
   ]
  },
  {
   "cell_type": "code",
   "execution_count": null,
   "id": "337401d2-0517-42a0-9f12-8cbf79753f68",
   "metadata": {},
   "outputs": [],
   "source": [
    "df_2.select(countDistinct(\"test_id\")).show()"
   ]
  },
  {
   "cell_type": "code",
   "execution_count": null,
   "id": "f742034e-46c0-43df-9112-1b1a63649ac3",
   "metadata": {},
   "outputs": [],
   "source": []
  }
 ],
 "metadata": {
  "kernelspec": {
   "display_name": "Python 3",
   "language": "python",
   "name": "python3"
  },
  "language_info": {
   "codemirror_mode": {
    "name": "ipython",
    "version": 3
   },
   "file_extension": ".py",
   "mimetype": "text/x-python",
   "name": "python",
   "nbconvert_exporter": "python",
   "pygments_lexer": "ipython3",
   "version": "3.8.10"
  }
 },
 "nbformat": 4,
 "nbformat_minor": 5
}
